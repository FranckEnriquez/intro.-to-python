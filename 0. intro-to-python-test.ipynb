{
 "cells": [
  {
   "cell_type": "markdown",
   "id": "f4a8ce3f",
   "metadata": {},
   "source": [
    "### Python basic test!\n",
    "\n",
    "\n",
    "**Hint:** No usar librerías"
   ]
  },
  {
   "cell_type": "markdown",
   "id": "92dff061",
   "metadata": {},
   "source": [
    "1. Escribe una función en Python llamada \"factorial\" que tome un número entero como argumento y devuelva el factorial de ese número. (El factorial de un número es el producto de todos los enteros positivos desde 1 hasta ese número)."
   ]
  },
  {
   "cell_type": "code",
   "execution_count": null,
   "id": "3f1b4f95",
   "metadata": {},
   "outputs": [],
   "source": []
  },
  {
   "cell_type": "code",
   "execution_count": null,
   "id": "0f2ff99b",
   "metadata": {},
   "outputs": [],
   "source": []
  },
  {
   "cell_type": "markdown",
   "id": "2836e33c",
   "metadata": {},
   "source": [
    "2. Dado el siguiente diccionario en Python:\n",
    "\n",
    "student = {\n",
    "    \"name\": \"John\",\n",
    "    \"age\": 20,\n",
    "    \"grades\": [85, 90, 92, 88]\n",
    "}\n",
    "\n",
    "Escribe una línea de código que imprima la lista de calificaciones del estudiante en orden descendente."
   ]
  },
  {
   "cell_type": "code",
   "execution_count": null,
   "id": "3f94d505",
   "metadata": {},
   "outputs": [],
   "source": []
  },
  {
   "cell_type": "code",
   "execution_count": null,
   "id": "dd909179",
   "metadata": {},
   "outputs": [],
   "source": []
  },
  {
   "cell_type": "markdown",
   "id": "bd7a6915",
   "metadata": {},
   "source": [
    "3.Escribe una función en Python llamada \"es_palindromo\" que tome una cadena de texto como argumento y devuelva True si la cadena es un palíndromo (es decir, se lee igual de izquierda a derecha que de derecha a izquierda), y False en caso contrario. Ignora los espacios y los caracteres no alfabéticos."
   ]
  },
  {
   "cell_type": "code",
   "execution_count": null,
   "id": "5e555311",
   "metadata": {},
   "outputs": [],
   "source": []
  },
  {
   "cell_type": "code",
   "execution_count": null,
   "id": "13550518",
   "metadata": {},
   "outputs": [],
   "source": []
  },
  {
   "cell_type": "markdown",
   "id": "9feafd88",
   "metadata": {},
   "source": [
    "4.Escribe una función en Python llamada \"eliminar_duplicados\" que tome una lista como argumento y devuelva una nueva lista sin elementos duplicados."
   ]
  },
  {
   "cell_type": "code",
   "execution_count": null,
   "id": "5a0adb81",
   "metadata": {},
   "outputs": [],
   "source": []
  },
  {
   "cell_type": "code",
   "execution_count": null,
   "id": "052ccdab",
   "metadata": {},
   "outputs": [],
   "source": []
  },
  {
   "cell_type": "markdown",
   "id": "03188f2e",
   "metadata": {},
   "source": [
    "5.Dado el siguiente código en Python:"
   ]
  },
  {
   "cell_type": "code",
   "execution_count": 1,
   "id": "ba8a1471",
   "metadata": {},
   "outputs": [],
   "source": [
    "def multiplicar_por_dos(x):\n",
    "    return x * 2\n",
    "\n",
    "numeros = [1, 2, 3, 4, 5]\n",
    "resultado = list(map(multiplicar_por_dos, numeros))"
   ]
  },
  {
   "cell_type": "markdown",
   "id": "3bdf4514",
   "metadata": {},
   "source": [
    "¿Cuál es la salida de este código?"
   ]
  },
  {
   "cell_type": "code",
   "execution_count": null,
   "id": "a319fe32",
   "metadata": {},
   "outputs": [],
   "source": []
  },
  {
   "cell_type": "code",
   "execution_count": null,
   "id": "a527ea70",
   "metadata": {},
   "outputs": [],
   "source": []
  },
  {
   "cell_type": "markdown",
   "id": "6f765c78",
   "metadata": {},
   "source": [
    "6.Escribe una función en Python llamada \"invertir_lista\" que tome una lista como argumento y devuelva una nueva lista con los elementos en orden inverso."
   ]
  },
  {
   "cell_type": "code",
   "execution_count": null,
   "id": "c0546aae",
   "metadata": {},
   "outputs": [],
   "source": []
  },
  {
   "cell_type": "code",
   "execution_count": null,
   "id": "c0ea7d40",
   "metadata": {},
   "outputs": [],
   "source": []
  },
  {
   "cell_type": "markdown",
   "id": "7cd1e9cc",
   "metadata": {},
   "source": [
    "7.Escribe una función en Python llamada \"es_anagrama\" que tome dos cadenas de texto como argumentos y devuelva True si son anagramas (es decir, si tienen las mismas letras pero en un orden diferente) y False en caso contrario. Ignora los espacios y considera que las cadenas solo contienen letras minúsculas."
   ]
  },
  {
   "cell_type": "code",
   "execution_count": null,
   "id": "c438dd60",
   "metadata": {},
   "outputs": [],
   "source": []
  },
  {
   "cell_type": "code",
   "execution_count": null,
   "id": "01ee5722",
   "metadata": {},
   "outputs": [],
   "source": []
  },
  {
   "cell_type": "markdown",
   "id": "e0319ae0",
   "metadata": {},
   "source": [
    "8.Escribe una función en Python llamada \"contar_vocales\" que tome una cadena de texto como argumento y devuelva el número de vocales que contiene. Considera tanto las vocales en minúscula como en mayúscula."
   ]
  },
  {
   "cell_type": "code",
   "execution_count": null,
   "id": "de2c0057",
   "metadata": {},
   "outputs": [],
   "source": []
  },
  {
   "cell_type": "code",
   "execution_count": null,
   "id": "5009f987",
   "metadata": {},
   "outputs": [],
   "source": []
  }
 ],
 "metadata": {
  "kernelspec": {
   "display_name": "Python 3 (ipykernel)",
   "language": "python",
   "name": "python3"
  },
  "language_info": {
   "codemirror_mode": {
    "name": "ipython",
    "version": 3
   },
   "file_extension": ".py",
   "mimetype": "text/x-python",
   "name": "python",
   "nbconvert_exporter": "python",
   "pygments_lexer": "ipython3",
   "version": "3.9.12"
  }
 },
 "nbformat": 4,
 "nbformat_minor": 5
}
