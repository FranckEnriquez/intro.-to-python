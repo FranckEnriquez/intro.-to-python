{
 "cells": [
  {
   "cell_type": "markdown",
   "metadata": {
    "ExecuteTime": {
     "end_time": "2017-09-02T05:46:26.188173Z",
     "start_time": "2017-09-02T05:46:26.176221Z"
    }
   },
   "source": [
    "## Funciones"
   ]
  },
  {
   "cell_type": "code",
   "execution_count": 1,
   "metadata": {},
   "outputs": [],
   "source": [
    "def ejemplo_A(a,b):\n",
    "    \n",
    "    C = a + b\n",
    "    \n",
    "    return C"
   ]
  },
  {
   "cell_type": "code",
   "execution_count": 2,
   "metadata": {},
   "outputs": [
    {
     "data": {
      "text/plain": [
       "5"
      ]
     },
     "execution_count": 2,
     "metadata": {},
     "output_type": "execute_result"
    }
   ],
   "source": [
    "ejemplo_A(a=2,b=3)"
   ]
  },
  {
   "cell_type": "code",
   "execution_count": 3,
   "metadata": {
    "ExecuteTime": {
     "end_time": "2018-03-02T03:19:49.620145Z",
     "start_time": "2018-03-02T03:19:49.608705Z"
    }
   },
   "outputs": [],
   "source": [
    "def ponle_ceros(n, numero_ceros):\n",
    "    n_obj = str(n)\n",
    "    \n",
    "    while (n_obj != str(n) + \"0\"*numero_ceros):\n",
    "        n_obj += '0'\n",
    "    return int(n_obj)"
   ]
  },
  {
   "cell_type": "code",
   "execution_count": 4,
   "metadata": {
    "ExecuteTime": {
     "end_time": "2018-03-02T03:17:01.173925Z",
     "start_time": "2018-03-02T03:17:01.164106Z"
    }
   },
   "outputs": [
    {
     "name": "stdout",
     "output_type": "stream",
     "text": [
      "<function ponle_ceros at 0x10eb49280>\n"
     ]
    }
   ],
   "source": [
    "print(ponle_ceros)"
   ]
  },
  {
   "cell_type": "code",
   "execution_count": 5,
   "metadata": {
    "ExecuteTime": {
     "end_time": "2018-03-02T03:20:22.076917Z",
     "start_time": "2018-03-02T03:20:22.066018Z"
    }
   },
   "outputs": [
    {
     "data": {
      "text/plain": [
       "10000000000000000000000000000000000000000000000000000000000000000000000000000000000000000000000000000"
      ]
     },
     "execution_count": 5,
     "metadata": {},
     "output_type": "execute_result"
    }
   ],
   "source": [
    "ponle_ceros(1, 100)"
   ]
  },
  {
   "cell_type": "code",
   "execution_count": 6,
   "metadata": {
    "ExecuteTime": {
     "end_time": "2018-03-02T03:20:26.973893Z",
     "start_time": "2018-03-02T03:20:26.962181Z"
    }
   },
   "outputs": [
    {
     "data": {
      "text/plain": [
       "20000000000"
      ]
     },
     "execution_count": 6,
     "metadata": {},
     "output_type": "execute_result"
    }
   ],
   "source": [
    "ponle_ceros(2,10)"
   ]
  },
  {
   "cell_type": "markdown",
   "metadata": {
    "solution2": "shown",
    "solution2_first": true
   },
   "source": [
    "**Ejercicio**: Crea una función que reciba una lista e imprima todos los elementos de la lista."
   ]
  },
  {
   "cell_type": "code",
   "execution_count": null,
   "metadata": {
    "ExecuteTime": {
     "end_time": "2018-03-02T03:35:07.162541Z",
     "start_time": "2018-03-02T03:35:07.152271Z"
    },
    "solution2": "shown"
   },
   "outputs": [],
   "source": []
  },
  {
   "cell_type": "code",
   "execution_count": null,
   "metadata": {
    "ExecuteTime": {
     "end_time": "2018-03-02T03:35:09.434959Z",
     "start_time": "2018-03-02T03:35:09.416648Z"
    }
   },
   "outputs": [],
   "source": []
  },
  {
   "cell_type": "markdown",
   "metadata": {
    "solution2": "shown",
    "solution2_first": true
   },
   "source": [
    "**Ejercicio**: \n",
    "1. Crea una lista con los nombres de tus compañeros.\n",
    "2. Crea una función que, dada una lista de nombres, imprima por cada una de las iniciales cuántas personas comparten esa inicial."
   ]
  },
  {
   "cell_type": "code",
   "execution_count": null,
   "metadata": {
    "ExecuteTime": {
     "end_time": "2018-03-06T01:27:09.668189Z",
     "start_time": "2018-03-06T01:27:09.642628Z"
    },
    "solution2": "shown"
   },
   "outputs": [],
   "source": []
  },
  {
   "cell_type": "code",
   "execution_count": null,
   "metadata": {
    "ExecuteTime": {
     "end_time": "2018-03-06T01:27:12.528992Z",
     "start_time": "2018-03-06T01:27:12.521059Z"
    }
   },
   "outputs": [],
   "source": []
  },
  {
   "cell_type": "markdown",
   "metadata": {},
   "source": [
    "## Diccionarios"
   ]
  },
  {
   "cell_type": "code",
   "execution_count": 101,
   "metadata": {
    "ExecuteTime": {
     "end_time": "2018-03-06T01:35:00.852664Z",
     "start_time": "2018-03-06T01:35:00.840339Z"
    }
   },
   "outputs": [
    {
     "data": {
      "text/plain": [
       "{}"
      ]
     },
     "execution_count": 101,
     "metadata": {},
     "output_type": "execute_result"
    }
   ],
   "source": [
    "{}"
   ]
  },
  {
   "cell_type": "code",
   "execution_count": 102,
   "metadata": {
    "ExecuteTime": {
     "end_time": "2018-03-06T01:35:05.401976Z",
     "start_time": "2018-03-06T01:35:05.390344Z"
    }
   },
   "outputs": [
    {
     "data": {
      "text/plain": [
       "dict"
      ]
     },
     "execution_count": 102,
     "metadata": {},
     "output_type": "execute_result"
    }
   ],
   "source": [
    "type({})"
   ]
  },
  {
   "cell_type": "code",
   "execution_count": 7,
   "metadata": {
    "ExecuteTime": {
     "end_time": "2018-03-06T01:35:37.734418Z",
     "start_time": "2018-03-06T01:35:37.726234Z"
    }
   },
   "outputs": [],
   "source": [
    "dicc = {'llave': 'algún valor'}"
   ]
  },
  {
   "cell_type": "code",
   "execution_count": 8,
   "metadata": {
    "ExecuteTime": {
     "end_time": "2018-03-06T01:35:41.547203Z",
     "start_time": "2018-03-06T01:35:41.536621Z"
    }
   },
   "outputs": [
    {
     "data": {
      "text/plain": [
       "{'llave': 'algún valor'}"
      ]
     },
     "execution_count": 8,
     "metadata": {},
     "output_type": "execute_result"
    }
   ],
   "source": [
    "dicc"
   ]
  },
  {
   "cell_type": "code",
   "execution_count": 9,
   "metadata": {
    "ExecuteTime": {
     "end_time": "2018-03-06T01:36:28.115098Z",
     "start_time": "2018-03-06T01:36:28.111936Z"
    }
   },
   "outputs": [
    {
     "data": {
      "text/plain": [
       "'algún valor'"
      ]
     },
     "execution_count": 9,
     "metadata": {},
     "output_type": "execute_result"
    }
   ],
   "source": [
    "dicc['llave']"
   ]
  },
  {
   "cell_type": "code",
   "execution_count": 24,
   "metadata": {
    "ExecuteTime": {
     "end_time": "2018-03-06T01:36:37.800053Z",
     "start_time": "2018-03-06T01:36:37.797174Z"
    }
   },
   "outputs": [],
   "source": [
    "calificaciones = {\n",
    "    'fulanito': 7,\n",
    "    'perenganita': 9,\n",
    "    'Juan': 7,\n",
    "    'Gaby': 9,\n",
    "    'Irving': None\n",
    "}"
   ]
  },
  {
   "cell_type": "code",
   "execution_count": 12,
   "metadata": {
    "ExecuteTime": {
     "end_time": "2018-03-06T01:36:50.507283Z",
     "start_time": "2018-03-06T01:36:50.497646Z"
    }
   },
   "outputs": [
    {
     "data": {
      "text/plain": [
       "9"
      ]
     },
     "execution_count": 12,
     "metadata": {},
     "output_type": "execute_result"
    }
   ],
   "source": [
    "calificaciones['Gaby']"
   ]
  },
  {
   "cell_type": "code",
   "execution_count": 14,
   "metadata": {},
   "outputs": [
    {
     "data": {
      "text/plain": [
       "7"
      ]
     },
     "execution_count": 14,
     "metadata": {},
     "output_type": "execute_result"
    }
   ],
   "source": [
    "calificaciones['fulanito']"
   ]
  },
  {
   "cell_type": "code",
   "execution_count": 28,
   "metadata": {},
   "outputs": [],
   "source": [
    "json = {\n",
    "    'GrupoA' : {\n",
    "        'Franck' : [5,10,8],\n",
    "        'Efrain' : [9,8,10],\n",
    "        'Noaprobados':{\n",
    "            'Renn' : [5,5,5]\n",
    "        }\n",
    "    },\n",
    "    \n",
    "    'GrupoB' : {\n",
    "        'Norma' : [10,5,3],\n",
    "        'Greece' : [9,10,9],\n",
    "        'Noaprobados':{\n",
    "            'Andy' : [5,5,6]\n",
    "        }\n",
    "    }\n",
    "}"
   ]
  },
  {
   "cell_type": "code",
   "execution_count": 21,
   "metadata": {},
   "outputs": [
    {
     "data": {
      "text/plain": [
       "{'GrupoA': {'Franck': [5, 10, 8],\n",
       "  'Efrain': [9, 8, 10],\n",
       "  'Noaprobados': {'Renn': [5, 5, 5]}},\n",
       " 'GrupoB': {'Norma': [10, 5, 3], 'Greece': [9, 10, 9]}}"
      ]
     },
     "execution_count": 21,
     "metadata": {},
     "output_type": "execute_result"
    }
   ],
   "source": [
    "json"
   ]
  },
  {
   "cell_type": "code",
   "execution_count": 17,
   "metadata": {},
   "outputs": [
    {
     "data": {
      "text/plain": [
       "[5, 10, 8]"
      ]
     },
     "execution_count": 17,
     "metadata": {},
     "output_type": "execute_result"
    }
   ],
   "source": [
    "json['GrupoA']['Franck']"
   ]
  },
  {
   "cell_type": "code",
   "execution_count": 19,
   "metadata": {},
   "outputs": [
    {
     "data": {
      "text/plain": [
       "[5, 5, 6]"
      ]
     },
     "execution_count": 19,
     "metadata": {},
     "output_type": "execute_result"
    }
   ],
   "source": [
    "json['GrupoB']['Noaprobados']['Andy']"
   ]
  },
  {
   "cell_type": "markdown",
   "metadata": {},
   "source": [
    "Los diccionarios tienen dos listas principales: llaves y valores."
   ]
  },
  {
   "cell_type": "code",
   "execution_count": 111,
   "metadata": {
    "ExecuteTime": {
     "end_time": "2018-03-06T01:37:13.893929Z",
     "start_time": "2018-03-06T01:37:13.877767Z"
    }
   },
   "outputs": [
    {
     "data": {
      "text/plain": [
       "dict_keys(['fulanito', 'perenganita', 'Juan', 'Gaby', 'Irving'])"
      ]
     },
     "execution_count": 111,
     "metadata": {},
     "output_type": "execute_result"
    }
   ],
   "source": [
    "calificaciones.keys()"
   ]
  },
  {
   "cell_type": "code",
   "execution_count": 112,
   "metadata": {
    "ExecuteTime": {
     "end_time": "2018-03-06T01:37:24.792041Z",
     "start_time": "2018-03-06T01:37:24.779323Z"
    }
   },
   "outputs": [
    {
     "data": {
      "text/plain": [
       "dict_values([7, 9, 7, 9, None])"
      ]
     },
     "execution_count": 112,
     "metadata": {},
     "output_type": "execute_result"
    }
   ],
   "source": [
    "calificaciones.values()"
   ]
  },
  {
   "cell_type": "code",
   "execution_count": 113,
   "metadata": {},
   "outputs": [
    {
     "data": {
      "text/plain": [
       "dict_keys(['GrupoA', 'GrupoB'])"
      ]
     },
     "execution_count": 113,
     "metadata": {},
     "output_type": "execute_result"
    }
   ],
   "source": [
    "json.keys()"
   ]
  },
  {
   "cell_type": "code",
   "execution_count": 114,
   "metadata": {},
   "outputs": [
    {
     "data": {
      "text/plain": [
       "dict_values([{'Franck': [5, 10, 8], 'Efrain': [9, 8, 10], 'Noaprobados': {'Renn': [5, 5, 5]}}, {'Norma': [10, 5, 3], 'Greece': [9, 10, 9], 'Noaprobados': {'Andy': [5, 5, 6]}}])"
      ]
     },
     "execution_count": 114,
     "metadata": {},
     "output_type": "execute_result"
    }
   ],
   "source": [
    "json.values()"
   ]
  },
  {
   "cell_type": "markdown",
   "metadata": {},
   "source": [
    "Podemos iterar por las llaves para encontrar los valores."
   ]
  },
  {
   "cell_type": "code",
   "execution_count": 27,
   "metadata": {},
   "outputs": [
    {
     "data": {
      "text/plain": [
       "7"
      ]
     },
     "execution_count": 27,
     "metadata": {},
     "output_type": "execute_result"
    }
   ],
   "source": [
    "calificaciones['fulanito']"
   ]
  },
  {
   "cell_type": "code",
   "execution_count": 115,
   "metadata": {
    "ExecuteTime": {
     "end_time": "2018-03-06T01:38:59.570238Z",
     "start_time": "2018-03-06T01:38:59.553330Z"
    }
   },
   "outputs": [
    {
     "name": "stdout",
     "output_type": "stream",
     "text": [
      "La calificación de fulanito es 7\n",
      "La calificación de perenganita es 9\n",
      "La calificación de Juan es 7\n",
      "La calificación de Gaby es 9\n",
      "La calificación de Irving es None\n"
     ]
    }
   ],
   "source": [
    "for k in calificaciones.keys():\n",
    "    print(\"La calificación de\", k, \"es\", calificaciones[k])"
   ]
  },
  {
   "cell_type": "code",
   "execution_count": 29,
   "metadata": {},
   "outputs": [
    {
     "name": "stdout",
     "output_type": "stream",
     "text": [
      "dict_keys(['Renn'])\n",
      "dict_keys(['Andy'])\n"
     ]
    }
   ],
   "source": [
    "#Iterar un diccionario a través de las llaves\n",
    "for key in json.keys():\n",
    "    for key2 in json[key]:\n",
    "        if len(json[key][key2]) != 3:\n",
    "            print(json[key][key2].keys())"
   ]
  },
  {
   "cell_type": "markdown",
   "metadata": {},
   "source": [
    "## TO DO: Ejercicios"
   ]
  },
  {
   "cell_type": "markdown",
   "metadata": {},
   "source": [
    "**Ejercicio:** Crea un diccionario, de cuatro niveles:\n",
    "* Primer nivel: Nombre de los equipos del SDC_5\n",
    "* Segundo nivel: Nombre de los integrantes\n",
    "* Tercer nivel: Nivel de Estudio\n",
    "* Cuarto nivel: Especialidad de estudio / profesión"
   ]
  },
  {
   "cell_type": "code",
   "execution_count": null,
   "metadata": {},
   "outputs": [],
   "source": []
  },
  {
   "cell_type": "code",
   "execution_count": null,
   "metadata": {},
   "outputs": [],
   "source": []
  }
 ],
 "metadata": {
  "kernelspec": {
   "display_name": "Python 3 (ipykernel)",
   "language": "python",
   "name": "python3"
  },
  "language_info": {
   "codemirror_mode": {
    "name": "ipython",
    "version": 3
   },
   "file_extension": ".py",
   "mimetype": "text/x-python",
   "name": "python",
   "nbconvert_exporter": "python",
   "pygments_lexer": "ipython3",
   "version": "3.9.12"
  },
  "toc": {
   "colors": {
    "hover_highlight": "#DAA520",
    "running_highlight": "#FF0000",
    "selected_highlight": "#FFD700"
   },
   "moveMenuLeft": true,
   "nav_menu": {
    "height": "246px",
    "width": "252px"
   },
   "navigate_menu": true,
   "number_sections": true,
   "sideBar": true,
   "threshold": 4,
   "toc_cell": true,
   "toc_section_display": "block",
   "toc_window_display": true,
   "widenNotebook": false
  }
 },
 "nbformat": 4,
 "nbformat_minor": 2
}
