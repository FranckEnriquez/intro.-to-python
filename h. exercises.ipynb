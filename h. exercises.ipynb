{
 "cells": [
  {
   "cell_type": "markdown",
   "id": "f4a8ce3f",
   "metadata": {},
   "source": [
    "### It's time to practice...!\n",
    "\n",
    "\n",
    "**Hint:** No usar librerías"
   ]
  },
  {
   "cell_type": "markdown",
   "id": "92dff061",
   "metadata": {},
   "source": [
    "1. **Calculadora simple:** Crea un programa que solicite al usuario dos números y luego realice las operaciones de suma, resta, multiplicación y división entre ellos, mostrando los resultados."
   ]
  },
  {
   "cell_type": "code",
   "execution_count": null,
   "id": "3f1b4f95",
   "metadata": {},
   "outputs": [],
   "source": []
  },
  {
   "cell_type": "code",
   "execution_count": null,
   "id": "0f2ff99b",
   "metadata": {},
   "outputs": [],
   "source": []
  },
  {
   "cell_type": "markdown",
   "id": "2836e33c",
   "metadata": {},
   "source": [
    "2. **Contador de palabras:** Escribe un programa que cuente la cantidad de palabras en una frase ingresada por el usuario. Puedes asumir que las palabras están separadas por espacios."
   ]
  },
  {
   "cell_type": "code",
   "execution_count": null,
   "id": "3f94d505",
   "metadata": {},
   "outputs": [],
   "source": []
  },
  {
   "cell_type": "code",
   "execution_count": null,
   "id": "dd909179",
   "metadata": {},
   "outputs": [],
   "source": []
  },
  {
   "cell_type": "markdown",
   "id": "bd7a6915",
   "metadata": {},
   "source": [
    "**3. Números primos:** Desarrolla un programa que solicite al usuario un número y determine si es primo o no. Un número primo es aquel que solo es divisible por 1 y por sí mismo."
   ]
  },
  {
   "cell_type": "code",
   "execution_count": null,
   "id": "5e555311",
   "metadata": {},
   "outputs": [],
   "source": []
  },
  {
   "cell_type": "code",
   "execution_count": null,
   "id": "13550518",
   "metadata": {},
   "outputs": [],
   "source": []
  },
  {
   "cell_type": "markdown",
   "id": "9feafd88",
   "metadata": {},
   "source": [
    "**4. Inversión de cadena:** Crea un programa que solicite al usuario una cadena de texto y muestre la cadena invertida. Por ejemplo, si el usuario ingresa \"Hola\", el programa debería imprimir \"aloH\"."
   ]
  },
  {
   "cell_type": "code",
   "execution_count": null,
   "id": "5a0adb81",
   "metadata": {},
   "outputs": [],
   "source": []
  },
  {
   "cell_type": "code",
   "execution_count": null,
   "id": "052ccdab",
   "metadata": {},
   "outputs": [],
   "source": []
  },
  {
   "cell_type": "markdown",
   "id": "03188f2e",
   "metadata": {},
   "source": [
    "**5. Generador de lista:** Diseña un programa que genere una lista de números enteros, comenzando desde 1 hasta un número máximo ingresado por el usuario. Luego, muestra la lista resultante."
   ]
  },
  {
   "cell_type": "code",
   "execution_count": null,
   "id": "91245b48",
   "metadata": {},
   "outputs": [],
   "source": []
  },
  {
   "cell_type": "code",
   "execution_count": null,
   "id": "a319fe32",
   "metadata": {},
   "outputs": [],
   "source": []
  },
  {
   "cell_type": "markdown",
   "id": "093a127b",
   "metadata": {},
   "source": [
    "**6. Factorial de un número:** Desarrolla un programa que solicite al usuario un número entero y calcule su factorial. El factorial de un número se calcula multiplicando todos los números enteros desde 1 hasta el número dado"
   ]
  },
  {
   "cell_type": "code",
   "execution_count": null,
   "id": "6876e9bd",
   "metadata": {},
   "outputs": [],
   "source": []
  },
  {
   "cell_type": "code",
   "execution_count": null,
   "id": "87ed2123",
   "metadata": {},
   "outputs": [],
   "source": []
  },
  {
   "cell_type": "markdown",
   "id": "6fd2f2e9",
   "metadata": {},
   "source": [
    "**7. Calculadora de estadísticas:** Crea un programa que lea una lista de números del usuario y calcule la media, la mediana y la desviación estándar de los datos ingresados."
   ]
  },
  {
   "cell_type": "code",
   "execution_count": null,
   "id": "5b1e9155",
   "metadata": {},
   "outputs": [],
   "source": []
  },
  {
   "cell_type": "code",
   "execution_count": null,
   "id": "8c582f20",
   "metadata": {},
   "outputs": [],
   "source": []
  },
  {
   "cell_type": "markdown",
   "id": "426c6db0",
   "metadata": {},
   "source": [
    "**8. Gestión de contactos: Desarrolla un programa que permita al usuario crear una lista de contactos. Debe permitir agregar, eliminar y buscar contactos por nombre, número de teléfono o dirección de correo electrónico.**"
   ]
  },
  {
   "cell_type": "code",
   "execution_count": null,
   "id": "54d8e82f",
   "metadata": {},
   "outputs": [],
   "source": []
  },
  {
   "cell_type": "code",
   "execution_count": null,
   "id": "71e12870",
   "metadata": {},
   "outputs": [],
   "source": []
  }
 ],
 "metadata": {
  "kernelspec": {
   "display_name": "Python 3 (ipykernel)",
   "language": "python",
   "name": "python3"
  },
  "language_info": {
   "codemirror_mode": {
    "name": "ipython",
    "version": 3
   },
   "file_extension": ".py",
   "mimetype": "text/x-python",
   "name": "python",
   "nbconvert_exporter": "python",
   "pygments_lexer": "ipython3",
   "version": "3.9.12"
  }
 },
 "nbformat": 4,
 "nbformat_minor": 5
}
