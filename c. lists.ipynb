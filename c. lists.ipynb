{
 "cells": [
  {
   "cell_type": "markdown",
   "id": "cd0fc4d8",
   "metadata": {},
   "source": [
    "# Listas"
   ]
  },
  {
   "cell_type": "markdown",
   "id": "ca93e18d",
   "metadata": {},
   "source": [
    "Una lista es un objeto que contiene objetos y **pueden ser diversos tipos de datos**. Se define con corchetes: [ ]"
   ]
  },
  {
   "cell_type": "code",
   "execution_count": 24,
   "id": "09058709",
   "metadata": {},
   "outputs": [
    {
     "data": {
      "text/plain": [
       "[]"
      ]
     },
     "execution_count": 24,
     "metadata": {},
     "output_type": "execute_result"
    }
   ],
   "source": [
    "[]"
   ]
  },
  {
   "cell_type": "code",
   "execution_count": 25,
   "id": "0fbba391",
   "metadata": {},
   "outputs": [
    {
     "data": {
      "text/plain": [
       "list"
      ]
     },
     "execution_count": 25,
     "metadata": {},
     "output_type": "execute_result"
    }
   ],
   "source": [
    "type([])"
   ]
  },
  {
   "cell_type": "markdown",
   "id": "7c6f51db",
   "metadata": {},
   "source": [
    "Las listas pueden contener cualquier tipo de objeto."
   ]
  },
  {
   "cell_type": "code",
   "execution_count": 26,
   "id": "31bd93fe",
   "metadata": {},
   "outputs": [
    {
     "data": {
      "text/plain": [
       "[1, 2, 3, 'Hola', ',', '¿cómo estás?', 16]"
      ]
     },
     "execution_count": 26,
     "metadata": {},
     "output_type": "execute_result"
    }
   ],
   "source": [
    "[1, 2, 3, \"Hola\", \",\", \"¿cómo estás?\", 16]"
   ]
  },
  {
   "cell_type": "markdown",
   "id": "75f08301",
   "metadata": {},
   "source": [
    "Vamos a asignarla a una variable."
   ]
  },
  {
   "cell_type": "code",
   "execution_count": 1,
   "id": "3360970a",
   "metadata": {},
   "outputs": [
    {
     "name": "stdout",
     "output_type": "stream",
     "text": [
      "[1, 2, 3, 'Hola', ',', '¿cómo estás?', 16]\n"
     ]
    }
   ],
   "source": [
    "lista_magica = [1, 2, 3, \"Hola\", \",\", \"¿cómo estás?\", 16]\n",
    "print(lista_magica)"
   ]
  },
  {
   "cell_type": "code",
   "execution_count": 28,
   "id": "7d7bc792",
   "metadata": {},
   "outputs": [],
   "source": [
    "# snake case\n",
    "inventar_variable_dummy = 2\n",
    "# camel case\n",
    "inventarVariableDummy = 2\n",
    "# PEP-8 "
   ]
  },
  {
   "cell_type": "markdown",
   "id": "7ca75412",
   "metadata": {},
   "source": [
    "Podemos acceder a sus elementos a través de corchetes."
   ]
  },
  {
   "cell_type": "code",
   "execution_count": 29,
   "id": "ddc9cb0b",
   "metadata": {},
   "outputs": [
    {
     "data": {
      "text/plain": [
       "'Hola'"
      ]
     },
     "execution_count": 29,
     "metadata": {},
     "output_type": "execute_result"
    }
   ],
   "source": [
    "lista_magica[3]"
   ]
  },
  {
   "cell_type": "code",
   "execution_count": 30,
   "id": "627bf1a6",
   "metadata": {},
   "outputs": [
    {
     "data": {
      "text/plain": [
       "7"
      ]
     },
     "execution_count": 30,
     "metadata": {},
     "output_type": "execute_result"
    }
   ],
   "source": [
    "len(lista_magica)"
   ]
  },
  {
   "cell_type": "code",
   "execution_count": 31,
   "id": "30036c6c",
   "metadata": {},
   "outputs": [
    {
     "data": {
      "text/plain": [
       "1"
      ]
     },
     "execution_count": 31,
     "metadata": {},
     "output_type": "execute_result"
    }
   ],
   "source": [
    "lista_magica[-7]"
   ]
  },
  {
   "cell_type": "code",
   "execution_count": 32,
   "id": "7cc9c15f",
   "metadata": {},
   "outputs": [
    {
     "data": {
      "text/plain": [
       "list"
      ]
     },
     "execution_count": 32,
     "metadata": {},
     "output_type": "execute_result"
    }
   ],
   "source": [
    "type(lista_magica)"
   ]
  },
  {
   "cell_type": "markdown",
   "id": "2dd63b8c",
   "metadata": {},
   "source": [
    "Una vez que accedemos al elemento, ya no tenemos una lista sino el objeto que estaba en esa posición."
   ]
  },
  {
   "cell_type": "code",
   "execution_count": 33,
   "id": "3c0cbc60",
   "metadata": {},
   "outputs": [
    {
     "data": {
      "text/plain": [
       "str"
      ]
     },
     "execution_count": 33,
     "metadata": {},
     "output_type": "execute_result"
    }
   ],
   "source": [
    "type(lista_magica[3])"
   ]
  },
  {
   "cell_type": "markdown",
   "id": "d3926a23",
   "metadata": {},
   "source": [
    "El primer elemento es el 0."
   ]
  },
  {
   "cell_type": "code",
   "execution_count": 34,
   "id": "c48b15db",
   "metadata": {},
   "outputs": [
    {
     "data": {
      "text/plain": [
       "1"
      ]
     },
     "execution_count": 34,
     "metadata": {},
     "output_type": "execute_result"
    }
   ],
   "source": [
    "lista_magica[0]"
   ]
  },
  {
   "cell_type": "code",
   "execution_count": 35,
   "id": "4a688567",
   "metadata": {},
   "outputs": [
    {
     "data": {
      "text/plain": [
       "3"
      ]
     },
     "execution_count": 35,
     "metadata": {},
     "output_type": "execute_result"
    }
   ],
   "source": [
    "[1, 2, 3, 4][2]"
   ]
  },
  {
   "cell_type": "markdown",
   "id": "3a4c30fe",
   "metadata": {},
   "source": [
    "Si nos pasamos del índice máximo de nuestra lista, Python nos lo hará saber."
   ]
  },
  {
   "cell_type": "code",
   "execution_count": 36,
   "id": "e234fdea",
   "metadata": {},
   "outputs": [
    {
     "ename": "IndexError",
     "evalue": "list index out of range",
     "output_type": "error",
     "traceback": [
      "\u001b[0;31m---------------------------------------------------------------------------\u001b[0m",
      "\u001b[0;31mIndexError\u001b[0m                                Traceback (most recent call last)",
      "\u001b[0;32m/var/folders/y4/_gt42s452j5gjbk21z_1_c6w0000gn/T/ipykernel_48042/3421299493.py\u001b[0m in \u001b[0;36m<module>\u001b[0;34m\u001b[0m\n\u001b[0;32m----> 1\u001b[0;31m \u001b[0mlista_magica\u001b[0m\u001b[0;34m[\u001b[0m\u001b[0;36m10\u001b[0m\u001b[0;34m]\u001b[0m\u001b[0;34m\u001b[0m\u001b[0;34m\u001b[0m\u001b[0m\n\u001b[0m",
      "\u001b[0;31mIndexError\u001b[0m: list index out of range"
     ]
    }
   ],
   "source": [
    "lista_magica[10]"
   ]
  },
  {
   "cell_type": "code",
   "execution_count": 37,
   "id": "1f8fcaf6",
   "metadata": {},
   "outputs": [
    {
     "data": {
      "text/plain": [
       "7"
      ]
     },
     "execution_count": 37,
     "metadata": {},
     "output_type": "execute_result"
    }
   ],
   "source": [
    "len(lista_magica)"
   ]
  },
  {
   "cell_type": "markdown",
   "id": "99d5a8ec",
   "metadata": {},
   "source": [
    "También podemos acceder a un rango de una lista (*slice*)."
   ]
  },
  {
   "cell_type": "code",
   "execution_count": 38,
   "id": "bb14a369",
   "metadata": {},
   "outputs": [
    {
     "data": {
      "text/plain": [
       "[1, 2, 3, 'Hola', ',', '¿cómo estás?', 16]"
      ]
     },
     "execution_count": 38,
     "metadata": {},
     "output_type": "execute_result"
    }
   ],
   "source": [
    "lista_magica"
   ]
  },
  {
   "cell_type": "code",
   "execution_count": 39,
   "id": "f9124cdf",
   "metadata": {},
   "outputs": [
    {
     "data": {
      "text/plain": [
       "[2, 3, 'Hola', ',']"
      ]
     },
     "execution_count": 39,
     "metadata": {},
     "output_type": "execute_result"
    }
   ],
   "source": [
    "lista_magica[1:5]"
   ]
  },
  {
   "cell_type": "code",
   "execution_count": 40,
   "id": "98905f06",
   "metadata": {},
   "outputs": [
    {
     "data": {
      "text/plain": [
       "[',', '¿cómo estás?', 16]"
      ]
     },
     "execution_count": 40,
     "metadata": {},
     "output_type": "execute_result"
    }
   ],
   "source": [
    "lista_magica[4:]"
   ]
  },
  {
   "cell_type": "code",
   "execution_count": 41,
   "id": "2ae41844",
   "metadata": {},
   "outputs": [
    {
     "data": {
      "text/plain": [
       "[1, 2, 3, 'Hola']"
      ]
     },
     "execution_count": 41,
     "metadata": {},
     "output_type": "execute_result"
    }
   ],
   "source": [
    "lista_magica[:4]"
   ]
  },
  {
   "cell_type": "markdown",
   "id": "7bcc54cc",
   "metadata": {},
   "source": [
    "El tamaño de la lista se obtiene con la función `len`."
   ]
  },
  {
   "cell_type": "code",
   "execution_count": 42,
   "id": "c931e2af",
   "metadata": {},
   "outputs": [
    {
     "name": "stdout",
     "output_type": "stream",
     "text": [
      "Help on built-in function len in module builtins:\n",
      "\n",
      "len(obj, /)\n",
      "    Return the number of items in a container.\n",
      "\n"
     ]
    }
   ],
   "source": [
    "help(len)"
   ]
  },
  {
   "cell_type": "code",
   "execution_count": 43,
   "id": "d166eb9f",
   "metadata": {},
   "outputs": [
    {
     "data": {
      "text/plain": [
       "7"
      ]
     },
     "execution_count": 43,
     "metadata": {},
     "output_type": "execute_result"
    }
   ],
   "source": [
    "len(lista_magica)"
   ]
  },
  {
   "cell_type": "markdown",
   "id": "ebc8cdee",
   "metadata": {},
   "source": [
    "Para agregar un elemento a la lista, se usa el método `append`."
   ]
  },
  {
   "cell_type": "code",
   "execution_count": 44,
   "id": "38b863d4",
   "metadata": {},
   "outputs": [
    {
     "name": "stdout",
     "output_type": "stream",
     "text": [
      "[1, 2, 3, 'Hola', ',', '¿cómo estás?', 16, 'nuevo elemento']\n"
     ]
    }
   ],
   "source": [
    "lista_magica.append(\"nuevo elemento\")\n",
    "print(lista_magica)"
   ]
  },
  {
   "cell_type": "code",
   "execution_count": 45,
   "id": "18bc6aa6",
   "metadata": {},
   "outputs": [],
   "source": [
    "lista_magica.append(\"X\")"
   ]
  },
  {
   "cell_type": "code",
   "execution_count": 46,
   "id": "01e4429a",
   "metadata": {},
   "outputs": [
    {
     "data": {
      "text/plain": [
       "[1, 2, 3, 'Hola', ',', '¿cómo estás?', 16, 'nuevo elemento', 'X']"
      ]
     },
     "execution_count": 46,
     "metadata": {},
     "output_type": "execute_result"
    }
   ],
   "source": [
    "lista_magica"
   ]
  },
  {
   "cell_type": "markdown",
   "id": "22f95060",
   "metadata": {},
   "source": [
    "También se pueden sumar listas, con lo que se obtiene una nueva lista con los elementos de las 2."
   ]
  },
  {
   "cell_type": "code",
   "execution_count": 15,
   "id": "3612e1d8",
   "metadata": {},
   "outputs": [
    {
     "name": "stdout",
     "output_type": "stream",
     "text": [
      "[1, 2, 3, 'Hola', ',', '¿cómo estás?', 16, 'nuevo elemento', 1, 2, 3, 'Hola', ',', '¿cómo estás?', 16, 'nuevo elemento']\n"
     ]
    }
   ],
   "source": [
    "print(lista_magica + lista_magica)"
   ]
  },
  {
   "cell_type": "markdown",
   "id": "859e63bd",
   "metadata": {},
   "source": [
    "Para obtener los valores únicos de una lista, usamos `set`."
   ]
  },
  {
   "cell_type": "code",
   "execution_count": 16,
   "id": "b0c928b4",
   "metadata": {},
   "outputs": [
    {
     "data": {
      "text/plain": [
       "[1, 2, 3, 'Hola', ',', '¿cómo estás?', 16, 'nuevo elemento']"
      ]
     },
     "execution_count": 16,
     "metadata": {},
     "output_type": "execute_result"
    }
   ],
   "source": [
    "lista_magica"
   ]
  },
  {
   "cell_type": "code",
   "execution_count": 17,
   "id": "fadfea6c",
   "metadata": {},
   "outputs": [
    {
     "data": {
      "text/plain": [
       "{',', 1, 16, 2, 3, 'Hola', 'nuevo elemento', '¿cómo estás?'}"
      ]
     },
     "execution_count": 17,
     "metadata": {},
     "output_type": "execute_result"
    }
   ],
   "source": [
    "set(lista_magica + lista_magica)"
   ]
  },
  {
   "cell_type": "code",
   "execution_count": 18,
   "id": "026c7910",
   "metadata": {},
   "outputs": [
    {
     "data": {
      "text/plain": [
       "set"
      ]
     },
     "execution_count": 18,
     "metadata": {},
     "output_type": "execute_result"
    }
   ],
   "source": [
    "type(set(lista_magica + lista_magica))"
   ]
  },
  {
   "cell_type": "markdown",
   "id": "c6f4095d",
   "metadata": {},
   "source": [
    "Si la lista tiene puros números, podemos sumar sus elementos."
   ]
  },
  {
   "cell_type": "code",
   "execution_count": 19,
   "id": "47c72053",
   "metadata": {},
   "outputs": [
    {
     "data": {
      "text/plain": [
       "6.9"
      ]
     },
     "execution_count": 19,
     "metadata": {},
     "output_type": "execute_result"
    }
   ],
   "source": [
    "sum([1.2,2.5,3.2])"
   ]
  },
  {
   "cell_type": "markdown",
   "id": "c21e908b",
   "metadata": {},
   "source": [
    "Una cadena de caracteres también puede usarse como una lista."
   ]
  },
  {
   "cell_type": "code",
   "execution_count": 20,
   "id": "61f91823",
   "metadata": {},
   "outputs": [
    {
     "name": "stdout",
     "output_type": "stream",
     "text": [
      "<class 'str'>\n",
      "<class 'str'>\n"
     ]
    }
   ],
   "source": [
    "print(type('Hola'[1]))\n",
    "print(type('Hola'[0:2]))"
   ]
  },
  {
   "cell_type": "code",
   "execution_count": 47,
   "id": "a7ebba20",
   "metadata": {},
   "outputs": [
    {
     "name": "stdout",
     "output_type": "stream",
     "text": [
      "o\n",
      "Ho\n"
     ]
    }
   ],
   "source": [
    "print('Hola'[1])\n",
    "print('Hola'[0:2])"
   ]
  },
  {
   "cell_type": "markdown",
   "id": "7d2b7e15",
   "metadata": {},
   "source": [
    "## TO DO: Ejercicios"
   ]
  },
  {
   "cell_type": "markdown",
   "id": "c05d29f8",
   "metadata": {},
   "source": [
    "**Ejercicio**: Generar las siguientes operaciones de las listas y los resultados esperados:\n",
    "\n",
    "* **list_1 + list_3 = [1 , 2, 3, 'Hola', 'python', 'list']**\n",
    "* **list_1 + list_2 = [3, 6, 8]**"
   ]
  },
  {
   "cell_type": "code",
   "execution_count": 48,
   "id": "9ba4d682",
   "metadata": {},
   "outputs": [],
   "source": [
    "# Definir las listas\n",
    "list_1 = [1 , 2, 3]\n",
    "list_2 = [2 , 4, 5]\n",
    "list_3 = ['Hola', 'python', 'list']"
   ]
  },
  {
   "cell_type": "code",
   "execution_count": 49,
   "id": "cb49ca24",
   "metadata": {},
   "outputs": [
    {
     "data": {
      "text/plain": [
       "[1, 2, 3, 'Hola', 'python', 'list']"
      ]
     },
     "execution_count": 49,
     "metadata": {},
     "output_type": "execute_result"
    }
   ],
   "source": [
    "list_1 + list_3"
   ]
  },
  {
   "cell_type": "code",
   "execution_count": 50,
   "id": "78e0e95b",
   "metadata": {
    "scrolled": true
   },
   "outputs": [
    {
     "name": "stdout",
     "output_type": "stream",
     "text": [
      "3\n",
      "6\n",
      "8\n"
     ]
    }
   ],
   "source": [
    "for a,b in zip(list_1,list_2):\n",
    "    print(a + b)"
   ]
  },
  {
   "cell_type": "code",
   "execution_count": 51,
   "id": "e8500983",
   "metadata": {},
   "outputs": [
    {
     "data": {
      "text/plain": [
       "[3, 6, 8]"
      ]
     },
     "execution_count": 51,
     "metadata": {},
     "output_type": "execute_result"
    }
   ],
   "source": [
    "[ a + b for a,b in zip(list_1,list_2)]"
   ]
  }
 ],
 "metadata": {
  "kernelspec": {
   "display_name": "Python 3 (ipykernel)",
   "language": "python",
   "name": "python3"
  },
  "language_info": {
   "codemirror_mode": {
    "name": "ipython",
    "version": 3
   },
   "file_extension": ".py",
   "mimetype": "text/x-python",
   "name": "python",
   "nbconvert_exporter": "python",
   "pygments_lexer": "ipython3",
   "version": "3.9.12"
  }
 },
 "nbformat": 4,
 "nbformat_minor": 5
}
